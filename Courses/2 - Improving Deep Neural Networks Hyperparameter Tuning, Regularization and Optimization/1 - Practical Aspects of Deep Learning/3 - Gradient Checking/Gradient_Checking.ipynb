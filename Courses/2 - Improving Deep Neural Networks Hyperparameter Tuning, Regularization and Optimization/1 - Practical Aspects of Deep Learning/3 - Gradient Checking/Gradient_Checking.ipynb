version https://git-lfs.github.com/spec/v1
oid sha256:685f3a3438e8f8dc7731b8ea764975c1cb0370579bc5804b8047d2def9364296
size 31654
