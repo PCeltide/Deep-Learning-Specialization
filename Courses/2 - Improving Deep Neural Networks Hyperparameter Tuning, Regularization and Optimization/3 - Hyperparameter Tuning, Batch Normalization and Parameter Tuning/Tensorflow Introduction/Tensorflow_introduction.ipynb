version https://git-lfs.github.com/spec/v1
oid sha256:11f2b7620d5c76c802dbd0624761e53e3a24326f2b0f2e6e9d48d5a1b6e4d2bf
size 441109
